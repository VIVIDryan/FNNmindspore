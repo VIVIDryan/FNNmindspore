{
 "cells": [
  {
   "cell_type": "code",
   "execution_count": 1,
   "id": "6523b58f-e004-43f1-bfec-d9be743f7407",
   "metadata": {},
   "outputs": [],
   "source": [
    "%matplotlib inline\n",
    "import random\n",
    "import mindspore \n",
    "import mindspore.ops as ops\n",
    "from mindspore import Tensor, Parameter\n",
    "\n",
    "from mindspore.common.initializer import initializer, Zero, Normal, Uniform\n",
    "import mindspore.nn as nn"
   ]
  },
  {
   "cell_type": "code",
   "execution_count": 2,
   "id": "b533c5b6-c1ea-472d-8c8f-bee29b131ed9",
   "metadata": {},
   "outputs": [],
   "source": [
    "def synthetic_data(w, b, num_examples):  #@save\n",
    "    \"\"\"生成y=Xw+b+噪声\"\"\"\n",
    "    X = ops.normal((num_examples, len(w)), Tensor(0, mindspore.int32), Tensor(1, mindspore.int32))\n",
    "    y = ops.matmul(X, w) + b\n",
    "    y += ops.normal(y.shape, Tensor(0, mindspore.int32), Tensor(0.01, mindspore.float32))\n",
    "    return X, y.reshape((-1, 1))\n"
   ]
  },
  {
   "cell_type": "code",
   "execution_count": 6,
   "id": "3f68a0a6-eecf-4590-be6d-f5272e07b67c",
   "metadata": {},
   "outputs": [
    {
     "name": "stderr",
     "output_type": "stream",
     "text": [
      "[WARNING] DEVICE(115766,ffffb9e16a40,python):2023-06-21-21:07:43.152.135 [mindspore/ccsrc/plugin/device/ascend/hal/device/kernel_select_ascend.cc:330] FilterRaisedOrReducePrecisionMatchedKernelInfo] Operator:[Default/StandardNormal-op10] don't support int64, reduce precision from int64 to int32.\n",
      "[WARNING] DEVICE(115766,ffffb9e16a40,python):2023-06-21-21:07:43.164.059 [mindspore/ccsrc/plugin/device/ascend/hal/device/kernel_select_ascend.cc:330] FilterRaisedOrReducePrecisionMatchedKernelInfo] Operator:[Default/StandardNormal-op11] don't support int64, reduce precision from int64 to int32.\n"
     ]
    }
   ],
   "source": [
    "true_w = mindspore.Tensor([2.2 , 4.5, 7.1], mindspore.float32)\n",
    "true_b = 9\n",
    "\n",
    "feature, labels  = synthetic_data(true_w, true_b, 1000)"
   ]
  },
  {
   "cell_type": "code",
   "execution_count": 7,
   "id": "717de454-2137-47a6-a651-59cef0b94d84",
   "metadata": {},
   "outputs": [],
   "source": [
    "def data_iter(batch_size, feature, labels):\n",
    "    num_examples = len(feature)\n",
    "    indices = list(range(num_examples))\n",
    "\n",
    "    random.shuffle(indices)\n",
    "    for i in range(0, num_examples, batch_size):\n",
    "        batch_indices = Tensor(\n",
    "            indices[i: min(i + batch_size, num_examples)])\n",
    "        yield feature[batch_indices], labels[batch_indices]"
   ]
  },
  {
   "cell_type": "code",
   "execution_count": null,
   "id": "ef31768d-f466-4038-bb41-d33c61818c49",
   "metadata": {},
   "outputs": [],
   "source": [
    "data_loader = data_iter(1, feature, labels)\n",
    "\n",
    "for x,y in data_loader:\n",
    "    print(x, y)\n",
    "    print(x.shape, y.shape)"
   ]
  },
  {
   "cell_type": "code",
   "execution_count": 6,
   "id": "b5fc8ba7-b127-4adf-a81a-9891cfce5d2e",
   "metadata": {},
   "outputs": [],
   "source": [
    "## 参数设置\n",
    "\n",
    "ReluNum = 15\n",
    "Epoch = 300\n",
    "E_target = 0.001\n",
    "lr = 0.05"
   ]
  },
  {
   "cell_type": "code",
   "execution_count": null,
   "id": "d8cac6f9-e7dd-44b9-8d1c-357481074e96",
   "metadata": {},
   "outputs": [],
   "source": [
    "def RBFFNN(nn.Cell):\n",
    "    def __init__(self, num_inputs, num_outputs, ReluNum):\n",
    "        super().__init__()\n",
    "        self.num_inputs = num_inputs\n",
    "        self.num_outputs = num_outputs\n",
    "        self.ReluNum = ReluNum\n",
    "        self.center = ops.rand((num_inputs, ReluNum))\n",
    "        self.width = ops.ones((num_inputs, ReluNum))\n",
    "        self.W =  Parameter(initializer(Normal(1, 0), (ReluNum, num_outputs), mindspore.float32))\n",
    "        \n",
    "        \n",
    "        \n",
    "    def construct(self, X):\n",
    "        \n",
    "        menfununitout = ops.zeros((self.num_input, self.ReluNum))\n",
    "        \n",
    "        for i in range(self.num_input):\n",
    "            for j in range(self.ReluNum):\n",
    "                menfununitout[i , j] = ops.exp(-(X[i]-Center(i,j))^2/Width(i,j)^2)\n",
    "        \n",
    "        a = self.W \n",
    "        \n",
    "        \n",
    "        return\n",
    "        \n",
    "        \n"
   ]
  }
 ],
 "metadata": {
  "kernelspec": {
   "display_name": "MindSpore",
   "language": "python",
   "name": "mindspore"
  },
  "language_info": {
   "codemirror_mode": {
    "name": "ipython",
    "version": 3
   },
   "file_extension": ".py",
   "mimetype": "text/x-python",
   "name": "python",
   "nbconvert_exporter": "python",
   "pygments_lexer": "ipython3",
   "version": "3.7.10"
  }
 },
 "nbformat": 4,
 "nbformat_minor": 5
}
