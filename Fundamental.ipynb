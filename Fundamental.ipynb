{
 "cells": [
  {
   "cell_type": "code",
   "execution_count": 1,
   "id": "fd0fecd5-dd57-428d-be68-72a8e26e0405",
   "metadata": {},
   "outputs": [],
   "source": [
    "%matplotlib inline\n",
    "import random\n",
    "import mindspore as ms\n",
    "from mindspore import Tensor, Parameter, ops\n",
    "\n",
    "from mindspore.common.initializer import initializer, Zero, Normal, Uniform\n",
    "import mindspore.nn as nn"
   ]
  },
  {
   "cell_type": "code",
   "execution_count": 3,
   "id": "5b747185-f736-4459-a11d-361498fc73f1",
   "metadata": {},
   "outputs": [],
   "source": [
    "z = ops.arange(12).reshape((3, 4))"
   ]
  },
  {
   "cell_type": "code",
   "execution_count": 4,
   "id": "72544ddb-7eac-4bcb-9555-0249e3329505",
   "metadata": {},
   "outputs": [
    {
     "data": {
      "text/plain": [
       "'1.8.1'"
      ]
     },
     "execution_count": 4,
     "metadata": {},
     "output_type": "execute_result"
    }
   ],
   "source": [
    "ms.__version__"
   ]
  },
  {
   "cell_type": "code",
   "execution_count": 5,
   "id": "2722aa9d-bd3d-4f11-a774-a1aeba51820d",
   "metadata": {},
   "outputs": [
    {
     "data": {
      "text/plain": [
       "Tensor(shape=[3, 4], dtype=Int32, value=\n",
       "[[ 0,  1,  2,  3],\n",
       " [ 4,  5,  6,  7],\n",
       " [ 8,  9, 10, 11]])"
      ]
     },
     "execution_count": 5,
     "metadata": {},
     "output_type": "execute_result"
    }
   ],
   "source": [
    "z\n"
   ]
  },
  {
   "cell_type": "code",
   "execution_count": 6,
   "id": "43924d4a-e5f6-4202-aa94-1458561a69de",
   "metadata": {},
   "outputs": [
    {
     "data": {
      "text/plain": [
       "Tensor(shape=[4], dtype=Int32, value= [4, 5, 6, 7])"
      ]
     },
     "execution_count": 6,
     "metadata": {},
     "output_type": "execute_result"
    }
   ],
   "source": [
    "z[1, :]"
   ]
  },
  {
   "cell_type": "code",
   "execution_count": null,
   "id": "7f754354-8e25-4c1d-b1e4-137c0c983bc2",
   "metadata": {},
   "outputs": [],
   "source": []
  }
 ],
 "metadata": {
  "kernelspec": {
   "display_name": "MindSpore",
   "language": "python",
   "name": "mindspore"
  },
  "language_info": {
   "codemirror_mode": {
    "name": "ipython",
    "version": 3
   },
   "file_extension": ".py",
   "mimetype": "text/x-python",
   "name": "python",
   "nbconvert_exporter": "python",
   "pygments_lexer": "ipython3",
   "version": "3.7.10"
  }
 },
 "nbformat": 4,
 "nbformat_minor": 5
}
